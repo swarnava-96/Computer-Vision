{
 "cells": [
  {
   "cell_type": "markdown",
   "id": "9d70f71d",
   "metadata": {},
   "source": [
    "# Reading, writing and displaying images with OpenCV"
   ]
  },
  {
   "cell_type": "code",
   "execution_count": 1,
   "id": "c7c261b9",
   "metadata": {},
   "outputs": [],
   "source": [
    "# Importing opencv\n",
    "import cv2"
   ]
  },
  {
   "cell_type": "code",
   "execution_count": 2,
   "id": "e5185928",
   "metadata": {},
   "outputs": [],
   "source": [
    "# Importing numpy\n",
    "import numpy as np"
   ]
  },
  {
   "cell_type": "markdown",
   "id": "036fe6e9",
   "metadata": {},
   "source": [
    "#### Building my first image"
   ]
  },
  {
   "cell_type": "code",
   "execution_count": 4,
   "id": "1b16c77a",
   "metadata": {},
   "outputs": [],
   "source": [
    "# Loading an image\n",
    "input = cv2.imread(\"./image_examples/elephant.jpg\")\n",
    "\n",
    "# Displaying our image\n",
    "cv2.imshow(\"Test Elephant Image\", input)\n",
    "\n",
    "# waitkey\n",
    "cv2.waitKey()\n",
    "\n",
    "# Closing all the windows\n",
    "cv2.destroyAllWindows()"
   ]
  },
  {
   "cell_type": "code",
   "execution_count": 5,
   "id": "e4e428db",
   "metadata": {},
   "outputs": [
    {
     "data": {
      "text/plain": [
       "(519, 778, 3)"
      ]
     },
     "execution_count": 5,
     "metadata": {},
     "output_type": "execute_result"
    }
   ],
   "source": [
    "# Lets see the shape of image\n",
    "input.shape"
   ]
  },
  {
   "cell_type": "code",
   "execution_count": 7,
   "id": "6dca150d",
   "metadata": {},
   "outputs": [
    {
     "name": "stdout",
     "output_type": "stream",
     "text": [
      "Height of image 519 pixels.\n",
      "Width of image 778 pixels.\n"
     ]
    }
   ],
   "source": [
    "# Lets print each dimensions of the image\n",
    "print(\"Height of image\", int(input.shape[0]), \"pixels.\")\n",
    "print(\"Width of image\", int(input.shape[1]), \"pixels.\")"
   ]
  },
  {
   "cell_type": "markdown",
   "id": "903ffe32",
   "metadata": {},
   "source": [
    "The 3 at the last specifies the 3 other components (RGB) that make up this image."
   ]
  },
  {
   "cell_type": "code",
   "execution_count": 8,
   "id": "37a69649",
   "metadata": {},
   "outputs": [
    {
     "data": {
      "text/plain": [
       "True"
      ]
     },
     "execution_count": 8,
     "metadata": {},
     "output_type": "execute_result"
    }
   ],
   "source": [
    "# Saving image\n",
    "cv2.imwrite(\"output.jpg\", input)"
   ]
  }
 ],
 "metadata": {
  "kernelspec": {
   "display_name": "Python 3 (ipykernel)",
   "language": "python",
   "name": "python3"
  },
  "language_info": {
   "codemirror_mode": {
    "name": "ipython",
    "version": 3
   },
   "file_extension": ".py",
   "mimetype": "text/x-python",
   "name": "python",
   "nbconvert_exporter": "python",
   "pygments_lexer": "ipython3",
   "version": "3.7.11"
  }
 },
 "nbformat": 4,
 "nbformat_minor": 5
}
